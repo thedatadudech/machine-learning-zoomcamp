{
 "cells": [
  {
   "cell_type": "code",
   "execution_count": 1,
   "id": "3e75e64b-fdaf-4ebd-9662-546e936607cf",
   "metadata": {},
   "outputs": [
    {
     "name": "stdout",
     "output_type": "stream",
     "text": [
      "\u001b[1mpipenv\u001b[0m, version 2024.0.1\n"
     ]
    }
   ],
   "source": [
    "!pipenv --version"
   ]
  },
  {
   "cell_type": "code",
   "execution_count": 2,
   "id": "f021b68a-89a2-4bcf-bd7d-f39f7496c253",
   "metadata": {},
   "outputs": [
    {
     "name": "stdout",
     "output_type": "stream",
     "text": [
      "A2:The first hash of 'scikit-learn' is: sha256:03b6158efa3faaf1feea3faa884c840ebd61b6484167c711548fce208ea09445\n"
     ]
    }
   ],
   "source": [
    "import json\n",
    "\n",
    "def get_first_hash(pipfile_lock_path, library_name):\n",
    "    # Load the Pipfile.lock content\n",
    "    with open(pipfile_lock_path, 'r') as file:\n",
    "        pipfile_lock = json.load(file)\n",
    "    \n",
    "    # Check in both \"default\" and \"develop\" sections for the library\n",
    "    for section in [\"default\", \"develop\"]:\n",
    "        if library_name in pipfile_lock.get(section, {}):\n",
    "            # Get the hashes associated with the library\n",
    "            hash_info = pipfile_lock[section][library_name].get(\"hashes\", [])\n",
    "            # Return the first hash if available\n",
    "            return hash_info[0] if hash_info else None\n",
    "    \n",
    "    # Return None if the library or hash is not found\n",
    "    return None\n",
    "\n",
    "# Example usage\n",
    "pipfile_lock_path = 'Pipfile.lock'\n",
    "library_name = 'scikit-learn'  # Replace with the desired library name\n",
    "first_hash = get_first_hash(pipfile_lock_path, library_name)\n",
    "print(f\"A2:The first hash of '{library_name}' is: {first_hash}\")\n"
   ]
  },
  {
   "cell_type": "code",
   "execution_count": 5,
   "id": "79687051-c594-4861-877e-1c95dbc809ac",
   "metadata": {},
   "outputs": [
    {
     "name": "stdout",
     "output_type": "stream",
     "text": [
      "A3 The probability that this client will get a credit is: 0.759\n"
     ]
    }
   ],
   "source": [
    "import pickle\n",
    "from sklearn.linear_model import LogisticRegression\n",
    "from sklearn.feature_extraction import DictVectorizer\n",
    "\n",
    "# Load the DictVectorizer and the model\n",
    "with open('dv.bin', 'rb') as dv_file:\n",
    "    dv = pickle.load(dv_file)\n",
    "\n",
    "with open('model1.bin', 'rb') as model_file:\n",
    "    model = pickle.load(model_file)\n",
    "\n",
    "# Define the client data\n",
    "client_data = {\"job\": \"management\", \"duration\": 400, \"poutcome\": \"success\"}\n",
    "\n",
    "# Transform the client data using the DictVectorizer\n",
    "X = dv.transform([client_data])\n",
    "\n",
    "# Predict the probability for class 1 (the client will get a credit)\n",
    "probability = model.predict_proba(X)[0, 1]\n",
    "\n",
    "# Print the result\n",
    "print(f\"A3 The probability that this client will get a credit is: {probability:.3f}\")"
   ]
  },
  {
   "cell_type": "code",
   "execution_count": 9,
   "id": "e0a0bcaf-6228-4df1-ad8c-d98bdb09efc3",
   "metadata": {},
   "outputs": [
    {
     "name": "stdout",
     "output_type": "stream",
     "text": [
      " * Serving Flask app '__main__'\n",
      " * Debug mode: off\n"
     ]
    },
    {
     "name": "stderr",
     "output_type": "stream",
     "text": [
      "WARNING: This is a development server. Do not use it in a production deployment. Use a production WSGI server instead.\n",
      " * Running on all addresses (0.0.0.0)\n",
      " * Running on http://127.0.0.1:9696\n",
      " * Running on http://192.168.1.108:9696\n",
      "Press CTRL+C to quit\n",
      "127.0.0.1 - - [31/Oct/2024 00:29:28] \"POST /predict HTTP/1.1\" 200 -\n"
     ]
    }
   ],
   "source": [
    "import pickle\n",
    "from flask import Flask, request, jsonify\n",
    "from sklearn.feature_extraction import DictVectorizer\n",
    "from sklearn.linear_model import LogisticRegression\n",
    "import threading\n",
    "\n",
    "# Load the DictVectorizer and the model\n",
    "with open('dv.bin', 'rb') as dv_file:\n",
    "    dv = pickle.load(dv_file)\n",
    "\n",
    "with open('model1.bin', 'rb') as model_file:\n",
    "    model = pickle.load(model_file)\n",
    "\n",
    "# Initialize Flask app\n",
    "app = Flask(__name__)\n",
    "\n",
    "@app.route('/predict', methods=['POST'])\n",
    "def predict():\n",
    "    client_data = request.get_json()\n",
    "    # Transform client data\n",
    "    X = dv.transform([client_data])\n",
    "    # Predict probability\n",
    "    probability = model.predict_proba(X)[0, 1]\n",
    "    # Return the probability as JSON\n",
    "    return jsonify({'credit_probability': probability})\n",
    "\n",
    "# Function to run the Flask app in a thread\n",
    "def run_app():\n",
    "    app.run(host='0.0.0.0', port=9696, debug=False, use_reloader=False)\n",
    "\n",
    "# Start Flask in a background thread\n",
    "thread = threading.Thread(target=run_app)\n",
    "thread.start()\n"
   ]
  },
  {
   "cell_type": "code",
   "execution_count": 10,
   "id": "e7d6ec18-a3d1-486e-92da-89018f9b1cd3",
   "metadata": {},
   "outputs": [
    {
     "name": "stdout",
     "output_type": "stream",
     "text": [
      "A4 The probability that the client will get a credit is 0.335\n"
     ]
    }
   ],
   "source": [
    "import requests\n",
    "url = \"http://127.0.0.1:9696/predict\"\n",
    "client = {\"job\": \"student\", \"duration\": 280, \"poutcome\": \"failure\"}\n",
    "response = requests.post(url, json=client).json()\n",
    "\n",
    "print(f\"A4 The probability that the client will get a credit is {round(response['credit_probability'],3)}\")"
   ]
  },
  {
   "cell_type": "code",
   "execution_count": 3,
   "id": "6bc3784d-1181-4b29-9217-983b91b9612f",
   "metadata": {},
   "outputs": [
    {
     "name": "stdout",
     "output_type": "stream",
     "text": [
      "REPOSITORY                                      TAG            IMAGE ID       CREATED             SIZE\n",
      "homework05                                      latest         0354cc7fa249   2 minutes ago       504MB\n",
      "<none>                                          <none>         55073cd9225b   4 minutes ago       504MB\n",
      "<none>                                          <none>         adad1d334b21   About an hour ago   495MB\n",
      "svizor/zoomcamp-model                           3.11.5-slim    975e7bdca086   12 days ago         130MB\n",
      "primalhealth-flask_app                          latest         148f31e5a077   2 weeks ago         2.08GB\n",
      "redis                                           7.2-bookworm   f4b3e8ad90fe   3 weeks ago         116MB\n",
      "llm_project_llama-streamlit                     latest         fc3cd2231e5a   4 weeks ago         9.6GB\n",
      "dpage/pgadmin4                                  latest         a67d330eef3b   5 weeks ago         485MB\n",
      "docker.elastic.co/elasticsearch/elasticsearch   8.15.1         874ef57a9a6b   8 weeks ago         1.26GB\n",
      "qdrant/qdrant                                   latest         0bba6866194d   2 months ago        187MB\n",
      "grafana/grafana                                 latest         de903bc9ce7c   2 months ago        478MB\n",
      "postgres                                        13             d76feacfc4a6   2 months ago        419MB\n",
      "postgres                                        latest         74cc00b2e28f   5 months ago        432MB\n",
      "pgvector/pgvector                               0.6.0-pg16     a608718e732f   9 months ago        427MB\n",
      "docker.elastic.co/elasticsearch/elasticsearch   8.4.3          ce2b9dc7fe85   2 years ago         1.26GB\n",
      "werbitt/solana-test-validator                   latest         365ebeacc2fa   3 years ago         712MB\n"
     ]
    }
   ],
   "source": [
    "!docker images"
   ]
  },
  {
   "cell_type": "code",
   "execution_count": 2,
   "id": "42664077-b0ee-4390-bee6-114a6e814989",
   "metadata": {},
   "outputs": [
    {
     "name": "stdout",
     "output_type": "stream",
     "text": [
      "A4 The probability that the client will get a credit is 0.759\n"
     ]
    }
   ],
   "source": [
    "import requests\n",
    "url = \"http://127.0.0.1:9696/predict\"\n",
    "client = {\"job\": \"management\", \"duration\": 400, \"poutcome\": \"success\"}\n",
    "response = requests.post(url, json=client).json()\n",
    "\n",
    "print(f\"A4 The probability that the client will get a credit is {round(response['credit_probability'],3)}\")"
   ]
  },
  {
   "cell_type": "code",
   "execution_count": null,
   "id": "3e6906d3",
   "metadata": {},
   "outputs": [],
   "source": []
  }
 ],
 "metadata": {
  "kernelspec": {
   "display_name": "Python 3 (ipykernel)",
   "language": "python",
   "name": "python3"
  },
  "language_info": {
   "codemirror_mode": {
    "name": "ipython",
    "version": 3
   },
   "file_extension": ".py",
   "mimetype": "text/x-python",
   "name": "python",
   "nbconvert_exporter": "python",
   "pygments_lexer": "ipython3",
   "version": "3.11.9"
  }
 },
 "nbformat": 4,
 "nbformat_minor": 5
}
